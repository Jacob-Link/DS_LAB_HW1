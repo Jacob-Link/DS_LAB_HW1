{
 "cells": [
  {
   "cell_type": "markdown",
   "source": [
    "# EDA"
   ],
   "metadata": {
    "collapsed": false
   }
  },
  {
   "cell_type": "markdown",
   "source": [
    "## Load Data"
   ],
   "metadata": {
    "collapsed": false
   }
  },
  {
   "cell_type": "code",
   "execution_count": 1,
   "metadata": {
    "collapsed": true,
    "ExecuteTime": {
     "start_time": "2023-04-23T22:14:08.333230Z",
     "end_time": "2023-04-23T22:14:10.949957Z"
    }
   },
   "outputs": [],
   "source": [
    "import pandas as pd\n",
    "import numpy as np"
   ]
  },
  {
   "cell_type": "code",
   "execution_count": 2,
   "outputs": [],
   "source": [
    "df = pd.read_csv(\"all_data.tsv\", sep=\"\\t\")"
   ],
   "metadata": {
    "collapsed": false,
    "ExecuteTime": {
     "start_time": "2023-04-23T22:14:12.597986Z",
     "end_time": "2023-04-23T22:14:14.474965Z"
    }
   }
  },
  {
   "cell_type": "code",
   "execution_count": 3,
   "outputs": [
    {
     "data": {
      "text/plain": "     HR  O2Sat   Temp    SBP   MAP   DBP  Resp  EtCO2  BaseExcess  HCO3  ...  \\\n0   NaN    NaN    NaN    NaN   NaN   NaN   NaN    NaN         NaN   NaN  ...   \n1  61.0   99.0  36.44  124.0  65.0  43.0  17.5    NaN         NaN   NaN  ...   \n2  64.0   98.0    NaN  125.0  64.0  41.0  27.0    NaN         NaN   NaN  ...   \n3  56.0  100.0    NaN  123.0  65.0  41.0   9.0    NaN         NaN   NaN  ...   \n4  66.0   99.0    NaN  120.0  67.0  43.0  23.0    NaN         NaN   NaN  ...   \n\n   Fibrinogen  Platelets    Age  Gender  Unit1  Unit2  HospAdmTime  ICULOS  \\\n0         NaN        NaN  75.91       0    0.0    1.0        -98.6       1   \n1         NaN        NaN  75.91       0    0.0    1.0        -98.6       2   \n2         NaN        NaN  75.91       0    0.0    1.0        -98.6       3   \n3         NaN        NaN  75.91       0    0.0    1.0        -98.6       4   \n4         NaN        NaN  75.91       0    0.0    1.0        -98.6       5   \n\n   SepsisLabel         id  \n0            0  patient_0  \n1            0  patient_0  \n2            0  patient_0  \n3            0  patient_0  \n4            0  patient_0  \n\n[5 rows x 42 columns]",
      "text/html": "<div>\n<style scoped>\n    .dataframe tbody tr th:only-of-type {\n        vertical-align: middle;\n    }\n\n    .dataframe tbody tr th {\n        vertical-align: top;\n    }\n\n    .dataframe thead th {\n        text-align: right;\n    }\n</style>\n<table border=\"1\" class=\"dataframe\">\n  <thead>\n    <tr style=\"text-align: right;\">\n      <th></th>\n      <th>HR</th>\n      <th>O2Sat</th>\n      <th>Temp</th>\n      <th>SBP</th>\n      <th>MAP</th>\n      <th>DBP</th>\n      <th>Resp</th>\n      <th>EtCO2</th>\n      <th>BaseExcess</th>\n      <th>HCO3</th>\n      <th>...</th>\n      <th>Fibrinogen</th>\n      <th>Platelets</th>\n      <th>Age</th>\n      <th>Gender</th>\n      <th>Unit1</th>\n      <th>Unit2</th>\n      <th>HospAdmTime</th>\n      <th>ICULOS</th>\n      <th>SepsisLabel</th>\n      <th>id</th>\n    </tr>\n  </thead>\n  <tbody>\n    <tr>\n      <th>0</th>\n      <td>NaN</td>\n      <td>NaN</td>\n      <td>NaN</td>\n      <td>NaN</td>\n      <td>NaN</td>\n      <td>NaN</td>\n      <td>NaN</td>\n      <td>NaN</td>\n      <td>NaN</td>\n      <td>NaN</td>\n      <td>...</td>\n      <td>NaN</td>\n      <td>NaN</td>\n      <td>75.91</td>\n      <td>0</td>\n      <td>0.0</td>\n      <td>1.0</td>\n      <td>-98.6</td>\n      <td>1</td>\n      <td>0</td>\n      <td>patient_0</td>\n    </tr>\n    <tr>\n      <th>1</th>\n      <td>61.0</td>\n      <td>99.0</td>\n      <td>36.44</td>\n      <td>124.0</td>\n      <td>65.0</td>\n      <td>43.0</td>\n      <td>17.5</td>\n      <td>NaN</td>\n      <td>NaN</td>\n      <td>NaN</td>\n      <td>...</td>\n      <td>NaN</td>\n      <td>NaN</td>\n      <td>75.91</td>\n      <td>0</td>\n      <td>0.0</td>\n      <td>1.0</td>\n      <td>-98.6</td>\n      <td>2</td>\n      <td>0</td>\n      <td>patient_0</td>\n    </tr>\n    <tr>\n      <th>2</th>\n      <td>64.0</td>\n      <td>98.0</td>\n      <td>NaN</td>\n      <td>125.0</td>\n      <td>64.0</td>\n      <td>41.0</td>\n      <td>27.0</td>\n      <td>NaN</td>\n      <td>NaN</td>\n      <td>NaN</td>\n      <td>...</td>\n      <td>NaN</td>\n      <td>NaN</td>\n      <td>75.91</td>\n      <td>0</td>\n      <td>0.0</td>\n      <td>1.0</td>\n      <td>-98.6</td>\n      <td>3</td>\n      <td>0</td>\n      <td>patient_0</td>\n    </tr>\n    <tr>\n      <th>3</th>\n      <td>56.0</td>\n      <td>100.0</td>\n      <td>NaN</td>\n      <td>123.0</td>\n      <td>65.0</td>\n      <td>41.0</td>\n      <td>9.0</td>\n      <td>NaN</td>\n      <td>NaN</td>\n      <td>NaN</td>\n      <td>...</td>\n      <td>NaN</td>\n      <td>NaN</td>\n      <td>75.91</td>\n      <td>0</td>\n      <td>0.0</td>\n      <td>1.0</td>\n      <td>-98.6</td>\n      <td>4</td>\n      <td>0</td>\n      <td>patient_0</td>\n    </tr>\n    <tr>\n      <th>4</th>\n      <td>66.0</td>\n      <td>99.0</td>\n      <td>NaN</td>\n      <td>120.0</td>\n      <td>67.0</td>\n      <td>43.0</td>\n      <td>23.0</td>\n      <td>NaN</td>\n      <td>NaN</td>\n      <td>NaN</td>\n      <td>...</td>\n      <td>NaN</td>\n      <td>NaN</td>\n      <td>75.91</td>\n      <td>0</td>\n      <td>0.0</td>\n      <td>1.0</td>\n      <td>-98.6</td>\n      <td>5</td>\n      <td>0</td>\n      <td>patient_0</td>\n    </tr>\n  </tbody>\n</table>\n<p>5 rows × 42 columns</p>\n</div>"
     },
     "metadata": {},
     "output_type": "display_data"
    }
   ],
   "source": [
    "display(df.head(5))"
   ],
   "metadata": {
    "collapsed": false,
    "ExecuteTime": {
     "start_time": "2023-04-23T22:14:14.773180Z",
     "end_time": "2023-04-23T22:14:14.807075Z"
    }
   }
  },
  {
   "cell_type": "code",
   "execution_count": 4,
   "outputs": [
    {
     "name": "stdout",
     "output_type": "stream",
     "text": [
      "Total of 42 columns: \n",
      "1. HR\n",
      "2. O2Sat\n",
      "3. Temp\n",
      "4. SBP\n",
      "5. MAP\n",
      "6. DBP\n",
      "7. Resp\n",
      "8. EtCO2\n",
      "9. BaseExcess\n",
      "10. HCO3\n",
      "11. FiO2\n",
      "12. pH\n",
      "13. PaCO2\n",
      "14. SaO2\n",
      "15. AST\n",
      "16. BUN\n",
      "17. Alkalinephos\n",
      "18. Calcium\n",
      "19. Chloride\n",
      "20. Creatinine\n",
      "21. Bilirubin_direct\n",
      "22. Glucose\n",
      "23. Lactate\n",
      "24. Magnesium\n",
      "25. Phosphate\n",
      "26. Potassium\n",
      "27. Bilirubin_total\n",
      "28. TroponinI\n",
      "29. Hct\n",
      "30. Hgb\n",
      "31. PTT\n",
      "32. WBC\n",
      "33. Fibrinogen\n",
      "34. Platelets\n",
      "35. Age\n",
      "36. Gender\n",
      "37. Unit1\n",
      "38. Unit2\n",
      "39. HospAdmTime\n",
      "40. ICULOS\n",
      "41. SepsisLabel\n",
      "42. id\n"
     ]
    }
   ],
   "source": [
    "print(f\"Total of {df.shape[1]} columns: \")\n",
    "for i, col in enumerate(df.columns):\n",
    "    print(f\"{i+1}. {col}\")"
   ],
   "metadata": {
    "collapsed": false,
    "ExecuteTime": {
     "start_time": "2023-04-23T22:14:14.811065Z",
     "end_time": "2023-04-23T22:14:14.874894Z"
    }
   }
  },
  {
   "cell_type": "code",
   "execution_count": 7,
   "outputs": [],
   "source": [
    "columns_explained = [\"Heart rate (beats per minute)\", \"Pulse oximetry (%)\", \"Temperature (Degrees C)\", \"Systolic BP (mm Hg)\",\n",
    "                     \"Mean arterial pressure (mm Hg)\", \"Diastolic BP (mm Hg)\", \"Respiration rate (breaths per minute)\", \"End tidal carbon dioxide (mm Hg)\",\n",
    "                     \"Measure of excess bicarbonate (mmol/L)\", \"Bicarbonate (mmol/L)\", \"Fraction of inspired oxygen (%)\", \"N/A\", \"Partial pressure of carbon dioxide from arterial blood (mm Hg)\",\n",
    "                     \"Oxygen saturation from arterial blood (%)\", \"Aspartate transaminase (IU/L)\", \"Blood urea nitrogen (mg/dL)\", \"Alkaline phosphatase (IU/L)\", \"(mg/dL)\", \"(mmol/L)\", \"(mg/dL)\",\n",
    "                     \"Bilirubin direct (mg/dL)\", \"Serum glucose (mg/dL)\", \"Lactic acid (mg/dL)\", \"(mmol/dL)\", \"(mg/dL)\", \"(mmol/L)\", \"Total bilirubin (mg/dL)\", \"Troponin I (ng/mL)\", \"Hematocrit (%)\",\n",
    "                     \"Hemoglobin (g/dL)\", \"partial thromboplastin time (seconds)\", \"Leukocyte count (count*10^3/µL)\", \"(mg/dL)\", \"(count*10^3/µL)\", \"Years (100 for patients 90 or above)\", \"Female (0) or Male (1)\",\n",
    "                     \"Administrative identifier for ICU unit (MICU)\", \"Administrative identifier for ICU unit (SICU)\", \"Hours between hospital admit and ICU admit\", \"ICU length-of-stay (hours since ICU admit)\",\n",
    "                     \"Outcome\", \"PSV file name\"]\n",
    "columns_dict = dict(zip(df.columns, columns_explained))"
   ],
   "metadata": {
    "collapsed": false,
    "ExecuteTime": {
     "start_time": "2023-04-23T22:26:54.650528Z",
     "end_time": "2023-04-23T22:26:54.656511Z"
    }
   }
  },
  {
   "cell_type": "code",
   "execution_count": 10,
   "outputs": [
    {
     "name": "stdout",
     "output_type": "stream",
     "text": [
      "1. HR: Heart rate (beats per minute)\n",
      "2. O2Sat: Pulse oximetry (%)\n",
      "3. Temp: Temperature (Degrees C)\n",
      "4. SBP: Systolic BP (mm Hg)\n",
      "5. MAP: Mean arterial pressure (mm Hg)\n",
      "6. DBP: Diastolic BP (mm Hg)\n",
      "7. Resp: Respiration rate (breaths per minute)\n",
      "8. EtCO2: End tidal carbon dioxide (mm Hg)\n",
      "9. BaseExcess: Measure of excess bicarbonate (mmol/L)\n",
      "10. HCO3: Bicarbonate (mmol/L)\n",
      "11. FiO2: Fraction of inspired oxygen (%)\n",
      "12. pH: N/A\n",
      "13. PaCO2: Partial pressure of carbon dioxide from arterial blood (mm Hg)\n",
      "14. SaO2: Oxygen saturation from arterial blood (%)\n",
      "15. AST: Aspartate transaminase (IU/L)\n",
      "16. BUN: Blood urea nitrogen (mg/dL)\n",
      "17. Alkalinephos: Alkaline phosphatase (IU/L)\n",
      "18. Calcium: (mg/dL)\n",
      "19. Chloride: (mmol/L)\n",
      "20. Creatinine: (mg/dL)\n",
      "21. Bilirubin_direct: Bilirubin direct (mg/dL)\n",
      "22. Glucose: Serum glucose (mg/dL)\n",
      "23. Lactate: Lactic acid (mg/dL)\n",
      "24. Magnesium: (mmol/dL)\n",
      "25. Phosphate: (mg/dL)\n",
      "26. Potassium: (mmol/L)\n",
      "27. Bilirubin_total: Total bilirubin (mg/dL)\n",
      "28. TroponinI: Troponin I (ng/mL)\n",
      "29. Hct: Hematocrit (%)\n",
      "30. Hgb: Hemoglobin (g/dL)\n",
      "31. PTT: partial thromboplastin time (seconds)\n",
      "32. WBC: Leukocyte count (count*10^3/µL)\n",
      "33. Fibrinogen: (mg/dL)\n",
      "34. Platelets: (count*10^3/µL)\n",
      "35. Age: Years (100 for patients 90 or above)\n",
      "36. Gender: Female (0) or Male (1)\n",
      "37. Unit1: Administrative identifier for ICU unit (MICU)\n",
      "38. Unit2: Administrative identifier for ICU unit (SICU)\n",
      "39. HospAdmTime: Hours between hospital admit and ICU admit\n",
      "40. ICULOS: ICU length-of-stay (hours since ICU admit)\n",
      "41. SepsisLabel: Outcome\n",
      "42. id: PSV file name\n"
     ]
    }
   ],
   "source": [
    "for i, x in enumerate(columns_dict.items()):\n",
    "    print(f\"{i+1}. {x[0]}: {x[1]}\")"
   ],
   "metadata": {
    "collapsed": false,
    "ExecuteTime": {
     "start_time": "2023-04-23T22:28:06.069246Z",
     "end_time": "2023-04-23T22:28:06.081746Z"
    }
   }
  },
  {
   "cell_type": "markdown",
   "source": [
    "## Understanding the data"
   ],
   "metadata": {
    "collapsed": false
   }
  },
  {
   "cell_type": "code",
   "execution_count": 20,
   "outputs": [],
   "source": [
    "# pip install dataprep from terminal\n",
    "import dataprep\n",
    "from dataprep.eda import create_report"
   ],
   "metadata": {
    "collapsed": false,
    "ExecuteTime": {
     "start_time": "2023-04-23T22:41:20.776219Z",
     "end_time": "2023-04-23T22:41:20.807137Z"
    }
   }
  },
  {
   "cell_type": "code",
   "execution_count": 12,
   "outputs": [
    {
     "name": "stdout",
     "output_type": "stream",
     "text": [
      "<class 'pandas.core.frame.DataFrame'>\n",
      "RangeIndex: 766884 entries, 0 to 766883\n",
      "Data columns (total 42 columns):\n",
      " #   Column            Non-Null Count   Dtype  \n",
      "---  ------            --------------   -----  \n",
      " 0   HR                690913 non-null  float64\n",
      " 1   O2Sat             666682 non-null  float64\n",
      " 2   Temp              260148 non-null  float64\n",
      " 3   SBP               654052 non-null  float64\n",
      " 4   MAP               671078 non-null  float64\n",
      " 5   DBP               527697 non-null  float64\n",
      " 6   Resp              648543 non-null  float64\n",
      " 7   EtCO2             27441 non-null   float64\n",
      " 8   BaseExcess        42076 non-null   float64\n",
      " 9   HCO3              31809 non-null   float64\n",
      " 10  FiO2              63797 non-null   float64\n",
      " 11  pH                53754 non-null   float64\n",
      " 12  PaCO2             43005 non-null   float64\n",
      " 13  SaO2              26842 non-null   float64\n",
      " 14  AST               12242 non-null   float64\n",
      " 15  BUN               52537 non-null   float64\n",
      " 16  Alkalinephos      12113 non-null   float64\n",
      " 17  Calcium           44917 non-null   float64\n",
      " 18  Chloride          34581 non-null   float64\n",
      " 19  Creatinine        46603 non-null   float64\n",
      " 20  Bilirubin_direct  1452 non-null    float64\n",
      " 21  Glucose           131713 non-null  float64\n",
      " 22  Lactate           20544 non-null   float64\n",
      " 23  Magnesium         48227 non-null   float64\n",
      " 24  Phosphate         30459 non-null   float64\n",
      " 25  Potassium         71627 non-null   float64\n",
      " 26  Bilirubin_total   11282 non-null   float64\n",
      " 27  TroponinI         7426 non-null    float64\n",
      " 28  Hct               68128 non-null   float64\n",
      " 29  Hgb               56731 non-null   float64\n",
      " 30  PTT               22296 non-null   float64\n",
      " 31  WBC               49059 non-null   float64\n",
      " 32  Fibrinogen        4924 non-null    float64\n",
      " 33  Platelets         45450 non-null   float64\n",
      " 34  Age               766884 non-null  float64\n",
      " 35  Gender            766884 non-null  int64  \n",
      " 36  Unit1             467722 non-null  float64\n",
      " 37  Unit2             467722 non-null  float64\n",
      " 38  HospAdmTime       766884 non-null  float64\n",
      " 39  ICULOS            766884 non-null  int64  \n",
      " 40  SepsisLabel       766884 non-null  int64  \n",
      " 41  id                766884 non-null  object \n",
      "dtypes: float64(38), int64(3), object(1)\n",
      "memory usage: 245.7+ MB\n"
     ]
    }
   ],
   "source": [
    "df.info()"
   ],
   "metadata": {
    "collapsed": false,
    "ExecuteTime": {
     "start_time": "2023-04-23T22:30:36.776434Z",
     "end_time": "2023-04-23T22:30:37.088292Z"
    }
   }
  },
  {
   "cell_type": "code",
   "execution_count": 22,
   "outputs": [],
   "source": [
    "def create_data_prep_report(df):\n",
    "    report = create_report(df)\n",
    "    report.save('dataprep_report_all_data') # save report to local disk\n",
    "    report.show_browser() # show report in the browser\n",
    "# create_data_prep_report(df)"
   ],
   "metadata": {
    "collapsed": false,
    "ExecuteTime": {
     "start_time": "2023-04-23T23:48:43.668449Z",
     "end_time": "2023-04-23T23:48:43.787692Z"
    }
   }
  },
  {
   "cell_type": "code",
   "execution_count": null,
   "outputs": [],
   "source": [],
   "metadata": {
    "collapsed": false
   }
  }
 ],
 "metadata": {
  "kernelspec": {
   "display_name": "Python 3",
   "language": "python",
   "name": "python3"
  },
  "language_info": {
   "codemirror_mode": {
    "name": "ipython",
    "version": 2
   },
   "file_extension": ".py",
   "mimetype": "text/x-python",
   "name": "python",
   "nbconvert_exporter": "python",
   "pygments_lexer": "ipython2",
   "version": "2.7.6"
  }
 },
 "nbformat": 4,
 "nbformat_minor": 0
}
