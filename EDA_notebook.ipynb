{
 "cells": [
  {
   "cell_type": "code",
   "execution_count": 1,
   "metadata": {
    "collapsed": true,
    "ExecuteTime": {
     "start_time": "2023-04-23T19:55:16.740024Z",
     "end_time": "2023-04-23T19:55:20.054503Z"
    }
   },
   "outputs": [],
   "source": [
    "import pandas as pd\n",
    "import numpy as np"
   ]
  },
  {
   "cell_type": "code",
   "execution_count": 2,
   "outputs": [],
   "source": [
    "df = pd.read_csv(\"all_data.tsv\", sep=\"\\t\")"
   ],
   "metadata": {
    "collapsed": false,
    "ExecuteTime": {
     "start_time": "2023-04-23T19:59:45.111884Z",
     "end_time": "2023-04-23T19:59:57.974475Z"
    }
   }
  },
  {
   "cell_type": "code",
   "execution_count": 5,
   "outputs": [
    {
     "data": {
      "text/plain": "   Unnamed: 0.1  Unnamed: 0    HR  O2Sat   Temp    SBP   MAP   DBP  Resp  \\\n0             0           0   NaN    NaN    NaN    NaN   NaN   NaN   NaN   \n1             1           1  61.0   99.0  36.44  124.0  65.0  43.0  17.5   \n2             2           2  64.0   98.0    NaN  125.0  64.0  41.0  27.0   \n3             3           3  56.0  100.0    NaN  123.0  65.0  41.0   9.0   \n4             4           4  66.0   99.0    NaN  120.0  67.0  43.0  23.0   \n\n   EtCO2  ...  Fibrinogen  Platelets    Age  Gender  Unit1  Unit2  \\\n0    NaN  ...         NaN        NaN  75.91       0    0.0    1.0   \n1    NaN  ...         NaN        NaN  75.91       0    0.0    1.0   \n2    NaN  ...         NaN        NaN  75.91       0    0.0    1.0   \n3    NaN  ...         NaN        NaN  75.91       0    0.0    1.0   \n4    NaN  ...         NaN        NaN  75.91       0    0.0    1.0   \n\n   HospAdmTime  ICULOS  SepsisLabel         id  \n0        -98.6       1            0  patient_0  \n1        -98.6       2            0  patient_0  \n2        -98.6       3            0  patient_0  \n3        -98.6       4            0  patient_0  \n4        -98.6       5            0  patient_0  \n\n[5 rows x 44 columns]",
      "text/html": "<div>\n<style scoped>\n    .dataframe tbody tr th:only-of-type {\n        vertical-align: middle;\n    }\n\n    .dataframe tbody tr th {\n        vertical-align: top;\n    }\n\n    .dataframe thead th {\n        text-align: right;\n    }\n</style>\n<table border=\"1\" class=\"dataframe\">\n  <thead>\n    <tr style=\"text-align: right;\">\n      <th></th>\n      <th>Unnamed: 0.1</th>\n      <th>Unnamed: 0</th>\n      <th>HR</th>\n      <th>O2Sat</th>\n      <th>Temp</th>\n      <th>SBP</th>\n      <th>MAP</th>\n      <th>DBP</th>\n      <th>Resp</th>\n      <th>EtCO2</th>\n      <th>...</th>\n      <th>Fibrinogen</th>\n      <th>Platelets</th>\n      <th>Age</th>\n      <th>Gender</th>\n      <th>Unit1</th>\n      <th>Unit2</th>\n      <th>HospAdmTime</th>\n      <th>ICULOS</th>\n      <th>SepsisLabel</th>\n      <th>id</th>\n    </tr>\n  </thead>\n  <tbody>\n    <tr>\n      <th>0</th>\n      <td>0</td>\n      <td>0</td>\n      <td>NaN</td>\n      <td>NaN</td>\n      <td>NaN</td>\n      <td>NaN</td>\n      <td>NaN</td>\n      <td>NaN</td>\n      <td>NaN</td>\n      <td>NaN</td>\n      <td>...</td>\n      <td>NaN</td>\n      <td>NaN</td>\n      <td>75.91</td>\n      <td>0</td>\n      <td>0.0</td>\n      <td>1.0</td>\n      <td>-98.6</td>\n      <td>1</td>\n      <td>0</td>\n      <td>patient_0</td>\n    </tr>\n    <tr>\n      <th>1</th>\n      <td>1</td>\n      <td>1</td>\n      <td>61.0</td>\n      <td>99.0</td>\n      <td>36.44</td>\n      <td>124.0</td>\n      <td>65.0</td>\n      <td>43.0</td>\n      <td>17.5</td>\n      <td>NaN</td>\n      <td>...</td>\n      <td>NaN</td>\n      <td>NaN</td>\n      <td>75.91</td>\n      <td>0</td>\n      <td>0.0</td>\n      <td>1.0</td>\n      <td>-98.6</td>\n      <td>2</td>\n      <td>0</td>\n      <td>patient_0</td>\n    </tr>\n    <tr>\n      <th>2</th>\n      <td>2</td>\n      <td>2</td>\n      <td>64.0</td>\n      <td>98.0</td>\n      <td>NaN</td>\n      <td>125.0</td>\n      <td>64.0</td>\n      <td>41.0</td>\n      <td>27.0</td>\n      <td>NaN</td>\n      <td>...</td>\n      <td>NaN</td>\n      <td>NaN</td>\n      <td>75.91</td>\n      <td>0</td>\n      <td>0.0</td>\n      <td>1.0</td>\n      <td>-98.6</td>\n      <td>3</td>\n      <td>0</td>\n      <td>patient_0</td>\n    </tr>\n    <tr>\n      <th>3</th>\n      <td>3</td>\n      <td>3</td>\n      <td>56.0</td>\n      <td>100.0</td>\n      <td>NaN</td>\n      <td>123.0</td>\n      <td>65.0</td>\n      <td>41.0</td>\n      <td>9.0</td>\n      <td>NaN</td>\n      <td>...</td>\n      <td>NaN</td>\n      <td>NaN</td>\n      <td>75.91</td>\n      <td>0</td>\n      <td>0.0</td>\n      <td>1.0</td>\n      <td>-98.6</td>\n      <td>4</td>\n      <td>0</td>\n      <td>patient_0</td>\n    </tr>\n    <tr>\n      <th>4</th>\n      <td>4</td>\n      <td>4</td>\n      <td>66.0</td>\n      <td>99.0</td>\n      <td>NaN</td>\n      <td>120.0</td>\n      <td>67.0</td>\n      <td>43.0</td>\n      <td>23.0</td>\n      <td>NaN</td>\n      <td>...</td>\n      <td>NaN</td>\n      <td>NaN</td>\n      <td>75.91</td>\n      <td>0</td>\n      <td>0.0</td>\n      <td>1.0</td>\n      <td>-98.6</td>\n      <td>5</td>\n      <td>0</td>\n      <td>patient_0</td>\n    </tr>\n  </tbody>\n</table>\n<p>5 rows × 44 columns</p>\n</div>"
     },
     "metadata": {},
     "output_type": "display_data"
    }
   ],
   "source": [
    "display(df.head(5))"
   ],
   "metadata": {
    "collapsed": false,
    "ExecuteTime": {
     "start_time": "2023-04-23T20:05:02.356632Z",
     "end_time": "2023-04-23T20:05:02.671565Z"
    }
   }
  },
  {
   "cell_type": "code",
   "execution_count": 6,
   "outputs": [
    {
     "name": "stdout",
     "output_type": "stream",
     "text": [
      "Total of 44 columns: \n",
      "1. Unnamed: 0.1\n",
      "2. Unnamed: 0\n",
      "3. HR\n",
      "4. O2Sat\n",
      "5. Temp\n",
      "6. SBP\n",
      "7. MAP\n",
      "8. DBP\n",
      "9. Resp\n",
      "10. EtCO2\n",
      "11. BaseExcess\n",
      "12. HCO3\n",
      "13. FiO2\n",
      "14. pH\n",
      "15. PaCO2\n",
      "16. SaO2\n",
      "17. AST\n",
      "18. BUN\n",
      "19. Alkalinephos\n",
      "20. Calcium\n",
      "21. Chloride\n",
      "22. Creatinine\n",
      "23. Bilirubin_direct\n",
      "24. Glucose\n",
      "25. Lactate\n",
      "26. Magnesium\n",
      "27. Phosphate\n",
      "28. Potassium\n",
      "29. Bilirubin_total\n",
      "30. TroponinI\n",
      "31. Hct\n",
      "32. Hgb\n",
      "33. PTT\n",
      "34. WBC\n",
      "35. Fibrinogen\n",
      "36. Platelets\n",
      "37. Age\n",
      "38. Gender\n",
      "39. Unit1\n",
      "40. Unit2\n",
      "41. HospAdmTime\n",
      "42. ICULOS\n",
      "43. SepsisLabel\n",
      "44. id\n"
     ]
    }
   ],
   "source": [
    "print(f\"Total of {df.shape[1]} columns: \")\n",
    "for i, col in enumerate(df.columns):\n",
    "    print(f\"{i+1}. {col}\")"
   ],
   "metadata": {
    "collapsed": false,
    "ExecuteTime": {
     "start_time": "2023-04-23T20:06:34.727023Z",
     "end_time": "2023-04-23T20:06:34.748965Z"
    }
   }
  }
 ],
 "metadata": {
  "kernelspec": {
   "display_name": "Python 3",
   "language": "python",
   "name": "python3"
  },
  "language_info": {
   "codemirror_mode": {
    "name": "ipython",
    "version": 2
   },
   "file_extension": ".py",
   "mimetype": "text/x-python",
   "name": "python",
   "nbconvert_exporter": "python",
   "pygments_lexer": "ipython2",
   "version": "2.7.6"
  }
 },
 "nbformat": 4,
 "nbformat_minor": 0
}
